{
  "cells": [
    {
      "cell_type": "markdown",
      "metadata": {
        "id": "view-in-github",
        "colab_type": "text"
      },
      "source": [
        "<a href=\"https://colab.research.google.com/github/ABHINAV-KV/Introduction-to-Python/blob/main/01_Basics.ipynb\" target=\"_parent\"><img src=\"https://colab.research.google.com/assets/colab-badge.svg\" alt=\"Open In Colab\"/></a>"
      ]
    },
    {
      "cell_type": "code",
      "execution_count": 1,
      "metadata": {
        "colab": {
          "base_uri": "https://localhost:8080/"
        },
        "id": "HQVBrEqFgD9N",
        "outputId": "7faaf6ee-093c-4e13-f7fb-6fb193df340c"
      },
      "outputs": [
        {
          "output_type": "execute_result",
          "data": {
            "text/plain": [
              "450"
            ]
          },
          "metadata": {},
          "execution_count": 1
        }
      ],
      "source": [
        "30+15\n",
        "30*15"
      ]
    },
    {
      "cell_type": "code",
      "execution_count": 2,
      "metadata": {
        "colab": {
          "base_uri": "https://localhost:8080/"
        },
        "id": "d2llm1gQhqMV",
        "outputId": "6643210a-f66f-4dfb-fb22-9746e7244ae6"
      },
      "outputs": [
        {
          "output_type": "execute_result",
          "data": {
            "text/plain": [
              "15"
            ]
          },
          "metadata": {},
          "execution_count": 2
        }
      ],
      "source": [
        "30-15"
      ]
    },
    {
      "cell_type": "code",
      "execution_count": 3,
      "metadata": {
        "colab": {
          "base_uri": "https://localhost:8080/"
        },
        "id": "cCE9MR_qhs-u",
        "outputId": "b5c334ff-65cd-491e-e17d-ee66a74fd7aa"
      },
      "outputs": [
        {
          "output_type": "stream",
          "name": "stdout",
          "text": [
            "10\n"
          ]
        }
      ],
      "source": [
        "x=10\n",
        "print(x)"
      ]
    },
    {
      "cell_type": "code",
      "execution_count": 4,
      "metadata": {
        "id": "zam-gfEWiY-2"
      },
      "outputs": [],
      "source": [
        "y=20"
      ]
    },
    {
      "cell_type": "code",
      "execution_count": 5,
      "metadata": {
        "colab": {
          "base_uri": "https://localhost:8080/"
        },
        "id": "gNWNFFUGi5JR",
        "outputId": "334b3fd0-e0aa-46d1-8a63-f963ad0b218b"
      },
      "outputs": [
        {
          "output_type": "execute_result",
          "data": {
            "text/plain": [
              "200"
            ]
          },
          "metadata": {},
          "execution_count": 5
        }
      ],
      "source": [
        "x*y"
      ]
    },
    {
      "cell_type": "code",
      "execution_count": 6,
      "metadata": {
        "colab": {
          "base_uri": "https://localhost:8080/"
        },
        "id": "fRN24fLWjUm1",
        "outputId": "8ce581c7-75e9-4585-a26a-e5525031d3f9"
      },
      "outputs": [
        {
          "output_type": "execute_result",
          "data": {
            "text/plain": [
              "30"
            ]
          },
          "metadata": {},
          "execution_count": 6
        }
      ],
      "source": [
        "x+y"
      ]
    },
    {
      "cell_type": "code",
      "execution_count": 7,
      "metadata": {
        "id": "JV0J7M4Wjcbt"
      },
      "outputs": [],
      "source": [
        "x='abhinav'"
      ]
    },
    {
      "cell_type": "code",
      "execution_count": 8,
      "metadata": {
        "colab": {
          "base_uri": "https://localhost:8080/"
        },
        "id": "1A8Id1H3kfX1",
        "outputId": "b75b20fb-18b2-403c-8f73-b42c7e1acb4f"
      },
      "outputs": [
        {
          "output_type": "stream",
          "name": "stdout",
          "text": [
            "abhinav\n"
          ]
        }
      ],
      "source": [
        "print(x)"
      ]
    },
    {
      "cell_type": "code",
      "execution_count": 9,
      "metadata": {
        "id": "mj8s90CSkp00"
      },
      "outputs": [],
      "source": [
        "x=\"abhinav\""
      ]
    },
    {
      "cell_type": "code",
      "execution_count": 10,
      "metadata": {
        "colab": {
          "base_uri": "https://localhost:8080/"
        },
        "id": "fdcNlDtsktar",
        "outputId": "9f5972ba-aaea-4a32-a75b-28d53ba57097"
      },
      "outputs": [
        {
          "output_type": "stream",
          "name": "stdout",
          "text": [
            "abhinav\n"
          ]
        }
      ],
      "source": [
        "print(x)"
      ]
    },
    {
      "cell_type": "code",
      "execution_count": 11,
      "metadata": {
        "colab": {
          "base_uri": "https://localhost:8080/"
        },
        "id": "YiZe9JRwkxjz",
        "outputId": "c99c710d-5912-45cd-b3e7-5b3d1b355672"
      },
      "outputs": [
        {
          "output_type": "stream",
          "name": "stdout",
          "text": [
            "a\n"
          ]
        }
      ],
      "source": [
        "print (x[0])"
      ]
    },
    {
      "cell_type": "code",
      "execution_count": 12,
      "metadata": {
        "colab": {
          "base_uri": "https://localhost:8080/"
        },
        "id": "5K4mBpUqloxp",
        "outputId": "993df0c5-6e52-4138-e8b4-a106f8680458"
      },
      "outputs": [
        {
          "output_type": "stream",
          "name": "stdout",
          "text": [
            "v\n"
          ]
        }
      ],
      "source": [
        "print(x[6])"
      ]
    },
    {
      "cell_type": "code",
      "execution_count": 13,
      "metadata": {
        "colab": {
          "base_uri": "https://localhost:8080/"
        },
        "id": "JEadmFJymE9B",
        "outputId": "95468533-2b7d-4831-886e-a904451ff43d"
      },
      "outputs": [
        {
          "output_type": "stream",
          "name": "stdout",
          "text": [
            "a\n"
          ]
        }
      ],
      "source": [
        "print(x[-7])"
      ]
    },
    {
      "cell_type": "code",
      "execution_count": 14,
      "metadata": {
        "colab": {
          "base_uri": "https://localhost:8080/"
        },
        "id": "o9l1x718m_gh",
        "outputId": "68c018d9-7d44-4590-9e73-8c8fcf079ff9"
      },
      "outputs": [
        {
          "output_type": "stream",
          "name": "stdout",
          "text": [
            "abhi\n"
          ]
        }
      ],
      "source": [
        "print(x[0:4])"
      ]
    },
    {
      "cell_type": "code",
      "execution_count": 15,
      "metadata": {
        "colab": {
          "base_uri": "https://localhost:8080/"
        },
        "id": "9Ky4kVB2na9h",
        "outputId": "62a5efb4-1932-4832-c81e-0fe00ccd3ebb"
      },
      "outputs": [
        {
          "output_type": "stream",
          "name": "stdout",
          "text": [
            "nav\n"
          ]
        }
      ],
      "source": [
        "print(x[-3:])"
      ]
    },
    {
      "cell_type": "code",
      "execution_count": 16,
      "metadata": {
        "id": "KAimjcZioUgS"
      },
      "outputs": [],
      "source": [
        "x='abhinav'"
      ]
    },
    {
      "cell_type": "code",
      "execution_count": 17,
      "metadata": {
        "id": "QOv_rq2JtS3a"
      },
      "outputs": [],
      "source": [
        "y= 'k v'"
      ]
    },
    {
      "cell_type": "code",
      "execution_count": 18,
      "metadata": {
        "colab": {
          "base_uri": "https://localhost:8080/"
        },
        "id": "-km4YjOatWLF",
        "outputId": "3536bf14-61c0-4c0f-a273-5e5b520308e6"
      },
      "outputs": [
        {
          "output_type": "stream",
          "name": "stdout",
          "text": [
            "abhinav k v\n"
          ]
        }
      ],
      "source": [
        "print(x+' '+y)"
      ]
    },
    {
      "cell_type": "code",
      "execution_count": 19,
      "metadata": {
        "colab": {
          "base_uri": "https://localhost:8080/"
        },
        "id": "BvpY4u6ytZ3-",
        "outputId": "f0ffaa9d-5d99-450c-ead6-73151824d8cf"
      },
      "outputs": [
        {
          "output_type": "stream",
          "name": "stdout",
          "text": [
            "<class 'str'>\n"
          ]
        }
      ],
      "source": [
        "x='10.5'\n",
        "print (type(x))"
      ]
    },
    {
      "cell_type": "code",
      "execution_count": 20,
      "metadata": {
        "colab": {
          "base_uri": "https://localhost:8080/"
        },
        "id": "VPvF2nsWvNqc",
        "outputId": "8b36fbbe-38cd-45a2-a86a-de84e42134ae"
      },
      "outputs": [
        {
          "output_type": "stream",
          "name": "stdout",
          "text": [
            "enter your nameabhinav\n",
            "abhinav\n"
          ]
        }
      ],
      "source": [
        "x=input(\"enter your name\")\n",
        "print(x)"
      ]
    },
    {
      "cell_type": "code",
      "execution_count": 21,
      "metadata": {
        "colab": {
          "base_uri": "https://localhost:8080/"
        },
        "id": "1aNGmnnEvv5k",
        "outputId": "75e6c186-6d3c-4681-ee5c-16cd551c0b55"
      },
      "outputs": [
        {
          "output_type": "stream",
          "name": "stdout",
          "text": [
            "enter your mark23\n",
            "23\n"
          ]
        }
      ],
      "source": [
        "x=int(input(\"enter your mark\"))\n",
        "print(x)"
      ]
    },
    {
      "cell_type": "code",
      "execution_count": 22,
      "metadata": {
        "colab": {
          "base_uri": "https://localhost:8080/"
        },
        "id": "tb69zXNKwBQJ",
        "outputId": "19350029-2b13-4361-baee-72dfcaa909ed"
      },
      "outputs": [
        {
          "output_type": "execute_result",
          "data": {
            "text/plain": [
              "int"
            ]
          },
          "metadata": {},
          "execution_count": 22
        }
      ],
      "source": [
        "type(x)"
      ]
    },
    {
      "cell_type": "code",
      "execution_count": 23,
      "metadata": {
        "colab": {
          "base_uri": "https://localhost:8080/"
        },
        "id": "71BKqP2Hwa7T",
        "outputId": "7582750e-1ed6-4516-c109-57e2c11cae9d"
      },
      "outputs": [
        {
          "output_type": "stream",
          "name": "stdout",
          "text": [
            "enter first value2\n",
            "enter the second value5\n",
            "10\n",
            "-3\n",
            "7\n",
            "10\n"
          ]
        }
      ],
      "source": [
        "x=int(input(\"enter first value\"))\n",
        "y=int(input(\"enter the second value\"))\n",
        "print (x*y)\n",
        "print (x-y)\n",
        "print (x+y)\n",
        "print (x*y)"
      ]
    },
    {
      "cell_type": "code",
      "execution_count": 24,
      "metadata": {
        "colab": {
          "base_uri": "https://localhost:8080/"
        },
        "id": "xuU48hrLxpW-",
        "outputId": "0300cee4-411c-40b3-f6e6-0d480c0a62ad"
      },
      "outputs": [
        {
          "output_type": "stream",
          "name": "stdout",
          "text": [
            "enter current67\n",
            "enter the resistance9\n",
            "voltage =  603\n"
          ]
        }
      ],
      "source": [
        "x=int(input(\"enter current\"))\n",
        "y=int(input(\"enter the resistance\"))\n",
        "v=x*y\n",
        "print (\"voltage = \",v)\n"
      ]
    },
    {
      "cell_type": "code",
      "execution_count": 25,
      "metadata": {
        "colab": {
          "base_uri": "https://localhost:8080/"
        },
        "id": "CA5op-y9yIq7",
        "outputId": "e8c91781-3d17-49fe-c9fe-21bf2f0bb628"
      },
      "outputs": [
        {
          "output_type": "stream",
          "name": "stdout",
          "text": [
            "enter your marks : 89\n",
            "distinction\n"
          ]
        }
      ],
      "source": [
        "x=int(input(\"enter your marks : \"))\n",
        "if x<=49:\n",
        "  print (\"you are failed\")\n",
        "if 50<=x<=60:\n",
        "  print (\"you got second class\")\n",
        "if 61<=x<=80:\n",
        "  print (\"you got first class\")\n",
        "if x>=81:\n",
        "  print(\"distinction\")\n"
      ]
    },
    {
      "cell_type": "code",
      "execution_count": 26,
      "metadata": {
        "colab": {
          "base_uri": "https://localhost:8080/"
        },
        "id": "LHAUh6qz00kQ",
        "outputId": "3021480a-2aef-401f-f46f-f1505581088f"
      },
      "outputs": [
        {
          "output_type": "stream",
          "name": "stdout",
          "text": [
            "enter first value: 8\n",
            "enter second value: 9\n",
            "output is low \n"
          ]
        }
      ],
      "source": [
        "x=int(input(\"enter first value: \"))\n",
        "y=int(input(\"enter second value: \"))\n",
        "if x==y :\n",
        "  print (\"output is high\")\n",
        "else :\n",
        "  print (\"output is low \")"
      ]
    },
    {
      "cell_type": "code",
      "execution_count": 27,
      "metadata": {
        "colab": {
          "base_uri": "https://localhost:8080/"
        },
        "id": "Z_-9-8wn3_hu",
        "outputId": "c8165383-071c-4d9e-fa06-b1add0363a34"
      },
      "outputs": [
        {
          "output_type": "stream",
          "name": "stdout",
          "text": [
            "enter your marks : 89\n",
            "distinction\n"
          ]
        }
      ],
      "source": [
        "x=int(input(\"enter your marks : \"))\n",
        "if x<=49:\n",
        "  print (\"you are failed\")\n",
        "if 50<=x and x<=60:\n",
        "  print (\"you got second class\")\n",
        "if 61<=x and x<=80:\n",
        "  print (\"you got first class\")\n",
        "if x>=81:\n",
        "  print(\"distinction\")"
      ]
    },
    {
      "cell_type": "code",
      "execution_count": 28,
      "metadata": {
        "colab": {
          "base_uri": "https://localhost:8080/"
        },
        "id": "1nWT_9MJ4FUI",
        "outputId": "45a5eca0-230c-4d07-cc6d-e7aa77150611"
      },
      "outputs": [
        {
          "output_type": "stream",
          "name": "stdout",
          "text": [
            "enter your marks : 9\n",
            "you are failed\n",
            "you are failed\n"
          ]
        }
      ],
      "source": [
        "x=int(input(\"enter your marks : \"))\n",
        "if x<=49:\n",
        "  print (\"you are failed\")\n",
        "if 50<=x<=60:\n",
        "  print (\"you got second class\")\n",
        "if 61<=x<=80:\n",
        "  print (\"you got first class\")\n",
        "if x>=81:\n",
        "  print(\"distinction\")\n",
        "if x<=49:\n",
        "  print (\"you are failed\")\n",
        "if 50<=x<=60:\n",
        "  print (\"you got second class\")\n",
        "if 61<=x<=80:\n",
        "  print (\"you got first class\")\n",
        "if x>=81:\n",
        "  y=int(input(\"enter the no of arrears : \"))\n",
        "  if y==0:\n",
        "    print(\" you got distinction\")\n",
        "  else :\n",
        "    print(\"sorry because of \",y,\"arrears you dont get distinction\")"
      ]
    },
    {
      "cell_type": "code",
      "execution_count": 29,
      "metadata": {
        "colab": {
          "base_uri": "https://localhost:8080/"
        },
        "id": "gw9Ei-4Z5bxT",
        "outputId": "5300c0bb-afc0-4709-cba7-ffdd2c325e8c"
      },
      "outputs": [
        {
          "output_type": "stream",
          "name": "stdout",
          "text": [
            "enter a number9\n",
            "number is odd\n"
          ]
        }
      ],
      "source": [
        "x=int(input(\"enter a number\"))\n",
        "if x % 2==0 :\n",
        "  print (\"number is even\")\n",
        "else :\n",
        "    print (\"number is odd\")\n"
      ]
    },
    {
      "cell_type": "code",
      "execution_count": 30,
      "metadata": {
        "colab": {
          "base_uri": "https://localhost:8080/"
        },
        "id": "xzmLWj3AIBLr",
        "outputId": "28f274d7-ed8f-46e2-dec7-1d0833ea7eb5"
      },
      "outputs": [
        {
          "output_type": "stream",
          "name": "stdout",
          "text": [
            "0\n",
            "1\n",
            "2\n",
            "3\n",
            "4\n",
            "5\n",
            "6\n",
            "7\n",
            "8\n",
            "9\n"
          ]
        }
      ],
      "source": [
        "for k in range(10):\n",
        "  print(k)"
      ]
    },
    {
      "cell_type": "code",
      "execution_count": 31,
      "metadata": {
        "colab": {
          "base_uri": "https://localhost:8080/"
        },
        "id": "j_5_dG1cJcHE",
        "outputId": "6342edbd-da0f-434c-ab39-8cb70b4e8187"
      },
      "outputs": [
        {
          "output_type": "stream",
          "name": "stdout",
          "text": [
            "45\n"
          ]
        }
      ],
      "source": [
        "x=0;\n",
        "for k in range(10):\n",
        "  x=x+k\n",
        "  if k==9:\n",
        "    print(x)"
      ]
    },
    {
      "cell_type": "code",
      "execution_count": 32,
      "metadata": {
        "colab": {
          "base_uri": "https://localhost:8080/"
        },
        "id": "B0YDJhCdLnvR",
        "outputId": "3856e89a-f7d7-404a-a700-d1be4a1d0a1c"
      },
      "outputs": [
        {
          "output_type": "stream",
          "name": "stdout",
          "text": [
            "2550\n"
          ]
        }
      ],
      "source": [
        "x=0;\n",
        "for k in range(101):\n",
        "  if k%2==0:\n",
        "    x=x+k\n",
        "print(x)"
      ]
    },
    {
      "cell_type": "code",
      "execution_count": 33,
      "metadata": {
        "colab": {
          "base_uri": "https://localhost:8080/"
        },
        "id": "cUcKJ7v2PABx",
        "outputId": "8228e2d2-e9e2-4766-b5fe-2d45732acbd2"
      },
      "outputs": [
        {
          "output_type": "stream",
          "name": "stdout",
          "text": [
            "93326215443944152681699238856266700490715968264381621468592963895217599993229915608941463976156518286253697920827223758251185210916864000000000000000000000000\n"
          ]
        }
      ],
      "source": [
        "x=1\n",
        "for k in range(1,101):\n",
        "  x=x*k\n",
        "print(x)"
      ]
    },
    {
      "cell_type": "code",
      "execution_count": 49,
      "metadata": {
        "id": "kA1AkJRgRAMn"
      },
      "outputs": [],
      "source": [
        "for k in range(100):\n",
        "  if k==5:\n",
        "    break;\n",
        "    print(k)"
      ]
    },
    {
      "cell_type": "code",
      "execution_count": 48,
      "metadata": {
        "id": "pP_mY57rUF-U"
      },
      "outputs": [],
      "source": []
    },
    {
      "cell_type": "code",
      "execution_count": 36,
      "metadata": {
        "colab": {
          "base_uri": "https://localhost:8080/"
        },
        "id": "PLeR3s7pS8_t",
        "outputId": "c766d172-e2dc-480d-dadf-6752bd6eb045"
      },
      "outputs": [
        {
          "output_type": "stream",
          "name": "stdout",
          "text": [
            "enter number23\n",
            "if this is the final no press 1 else 01\n",
            "enter number12\n",
            "if this is the final no press 1 else 00\n",
            "35\n"
          ]
        }
      ],
      "source": [
        "a=0   \n",
        "for k in range(10):\n",
        "  x=int(input(\"enter number\"))\n",
        "  a=a+x\n",
        "  y=int(input(\"if this is the final no press 1 else 0\"))\n",
        "  if y==0:\n",
        "    break;\n",
        "print(a)"
      ]
    },
    {
      "cell_type": "code",
      "execution_count": 39,
      "metadata": {
        "colab": {
          "base_uri": "https://localhost:8080/"
        },
        "id": "an4shqSZW7S8",
        "outputId": "ba9d6108-2f00-4808-b144-22682ebbd39d"
      },
      "outputs": [
        {
          "output_type": "stream",
          "name": "stdout",
          "text": [
            "0\n",
            "1\n",
            "2\n",
            "3\n",
            "4\n",
            "5\n",
            "6\n",
            "7\n",
            "8\n",
            "9\n",
            "10\n",
            "11\n",
            "12\n",
            "13\n",
            "14\n",
            "15\n",
            "16\n",
            "17\n",
            "18\n",
            "19\n",
            "20\n",
            "21\n",
            "22\n",
            "23\n",
            "24\n",
            "25\n",
            "26\n",
            "27\n",
            "28\n",
            "29\n",
            "30\n",
            "31\n",
            "32\n",
            "33\n",
            "34\n",
            "35\n",
            "36\n",
            "37\n",
            "38\n",
            "39\n",
            "40\n",
            "41\n",
            "42\n",
            "43\n",
            "44\n",
            "45\n",
            "46\n",
            "47\n",
            "48\n",
            "49\n",
            "50\n",
            "51\n",
            "52\n",
            "53\n",
            "54\n",
            "55\n",
            "56\n",
            "57\n",
            "58\n",
            "59\n",
            "60\n",
            "61\n",
            "62\n",
            "63\n",
            "64\n",
            "65\n",
            "66\n",
            "67\n",
            "68\n",
            "69\n",
            "70\n",
            "71\n",
            "72\n",
            "73\n",
            "74\n",
            "75\n",
            "76\n",
            "77\n",
            "78\n",
            "79\n",
            "80\n",
            "81\n",
            "82\n",
            "83\n",
            "84\n",
            "85\n",
            "86\n",
            "87\n",
            "88\n",
            "89\n",
            "90\n",
            "91\n",
            "92\n",
            "93\n",
            "94\n",
            "95\n",
            "96\n",
            "97\n",
            "98\n",
            "99\n"
          ]
        }
      ],
      "source": [
        "k=0\n",
        "while(k<100):\n",
        "  print(k)\n",
        "  k=k+1"
      ]
    },
    {
      "cell_type": "code",
      "execution_count": 40,
      "metadata": {
        "colab": {
          "base_uri": "https://localhost:8080/"
        },
        "id": "iQKZ-Gh0aMKg",
        "outputId": "84199478-da3c-40c3-d6a5-9b17e9836a20"
      },
      "outputs": [
        {
          "output_type": "stream",
          "name": "stdout",
          "text": [
            "2500\n"
          ]
        }
      ],
      "source": [
        "k=0\n",
        "x=0\n",
        "while(k<=100):\n",
        "  if k%2==1:\n",
        "    x=x+k\n",
        "  k=k+1\n",
        "print(x)"
      ]
    },
    {
      "cell_type": "code",
      "execution_count": 41,
      "metadata": {
        "colab": {
          "base_uri": "https://localhost:8080/"
        },
        "id": "FPR-JtLoaof3",
        "outputId": "82903e85-adae-41fe-b894-ba81fa2e2594"
      },
      "outputs": [
        {
          "output_type": "stream",
          "name": "stdout",
          "text": [
            "0\n",
            "2\n",
            "4\n",
            "6\n",
            "8\n",
            "10\n",
            "12\n",
            "14\n",
            "16\n",
            "18\n",
            "20\n",
            "22\n",
            "24\n",
            "26\n",
            "28\n",
            "30\n",
            "32\n",
            "34\n",
            "36\n",
            "38\n",
            "40\n",
            "42\n",
            "44\n",
            "46\n",
            "48\n",
            "50\n",
            "52\n",
            "54\n",
            "56\n",
            "58\n",
            "60\n",
            "62\n",
            "64\n",
            "66\n",
            "68\n",
            "70\n",
            "72\n",
            "74\n",
            "76\n",
            "78\n",
            "80\n",
            "82\n",
            "84\n",
            "86\n",
            "88\n",
            "90\n",
            "92\n",
            "94\n",
            "96\n",
            "98\n"
          ]
        }
      ],
      "source": [
        "for x in range(100):\n",
        "  if x%2==1:\n",
        "    continue;\n",
        "  print(x)"
      ]
    },
    {
      "cell_type": "code",
      "execution_count": 42,
      "metadata": {
        "colab": {
          "base_uri": "https://localhost:8080/"
        },
        "id": "s_5AexfNftwW",
        "outputId": "e5072792-5612-435b-b55c-e45d002acaa2"
      },
      "outputs": [
        {
          "output_type": "stream",
          "name": "stdout",
          "text": [
            "[1, 2, 5]\n"
          ]
        }
      ],
      "source": [
        "x=[1,2,5,9,\"india\",21.6]\n",
        "print (x[0:3])"
      ]
    },
    {
      "cell_type": "code",
      "execution_count": 43,
      "metadata": {
        "id": "tK93aIFcoHLC",
        "colab": {
          "base_uri": "https://localhost:8080/"
        },
        "outputId": "ff1b3a6a-a216-4b1b-b4c9-4931368b120d"
      },
      "outputs": [
        {
          "output_type": "stream",
          "name": "stdout",
          "text": [
            "[1, 2, 5, 9, 'india', 21.6, 'abhinav']\n"
          ]
        }
      ],
      "source": [
        "x.append(\"abhinav\")\n",
        "print(x)"
      ]
    },
    {
      "cell_type": "code",
      "source": [
        "x.insert(1,\"sunny\")"
      ],
      "metadata": {
        "id": "DSohUD6sofX3"
      },
      "execution_count": 44,
      "outputs": []
    },
    {
      "cell_type": "code",
      "source": [
        "print (x)"
      ],
      "metadata": {
        "colab": {
          "base_uri": "https://localhost:8080/"
        },
        "id": "u1RHQ7TUpiiw",
        "outputId": "fe372185-7808-49c8-f230-c7b2e4924bf5"
      },
      "execution_count": 45,
      "outputs": [
        {
          "output_type": "stream",
          "name": "stdout",
          "text": [
            "[1, 'sunny', 2, 5, 9, 'india', 21.6, 'abhinav']\n"
          ]
        }
      ]
    },
    {
      "cell_type": "code",
      "source": [
        "x[2]=\"sanath\"\n",
        "print(x)"
      ],
      "metadata": {
        "colab": {
          "base_uri": "https://localhost:8080/"
        },
        "id": "A7giGrIHpml3",
        "outputId": "0373e3d4-c3b7-40ee-94a1-41f57a8c228b"
      },
      "execution_count": 46,
      "outputs": [
        {
          "output_type": "stream",
          "name": "stdout",
          "text": [
            "[1, 'sunny', 'sanath', 5, 9, 'india', 21.6, 'abhinav']\n"
          ]
        }
      ]
    },
    {
      "cell_type": "code",
      "source": [
        "print(x)"
      ],
      "metadata": {
        "colab": {
          "base_uri": "https://localhost:8080/"
        },
        "id": "6X2on7NIqHBa",
        "outputId": "f523d890-00ba-4228-906d-b486921cc5e7"
      },
      "execution_count": 47,
      "outputs": [
        {
          "output_type": "stream",
          "name": "stdout",
          "text": [
            "[1, 'sunny', 'sanath', 5, 9, 'india', 21.6, 'abhinav']\n"
          ]
        }
      ]
    },
    {
      "cell_type": "code",
      "source": [
        "\n",
        "a=x[-1]\n",
        "x[-1]=x[0]\n",
        "x[0]=a\n",
        "print(x)"
      ],
      "metadata": {
        "colab": {
          "base_uri": "https://localhost:8080/"
        },
        "id": "E8IMmsFmrWIS",
        "outputId": "3e8269a5-aa12-4c4d-988e-14e399ad53c5"
      },
      "execution_count": 48,
      "outputs": [
        {
          "output_type": "stream",
          "name": "stdout",
          "text": [
            "['abhinav', 'sunny', 'sanath', 5, 9, 'india', 21.6, 1]\n"
          ]
        }
      ]
    },
    {
      "cell_type": "code",
      "source": [],
      "metadata": {
        "id": "BQgcXzeOryE6"
      },
      "execution_count": 48,
      "outputs": []
    }
  ],
  "metadata": {
    "colab": {
      "provenance": [],
      "toc_visible": true,
      "authorship_tag": "ABX9TyO/QUKfZvpGnNkf0ZYiEH0T",
      "include_colab_link": true
    },
    "kernelspec": {
      "display_name": "Python 3",
      "name": "python3"
    },
    "language_info": {
      "name": "python"
    }
  },
  "nbformat": 4,
  "nbformat_minor": 0
}